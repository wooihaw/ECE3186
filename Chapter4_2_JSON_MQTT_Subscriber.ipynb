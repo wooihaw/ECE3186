{
  "nbformat": 4,
  "nbformat_minor": 0,
  "metadata": {
    "kernelspec": {
      "display_name": "Python 3",
      "language": "python",
      "name": "python3"
    },
    "language_info": {
      "codemirror_mode": {
        "name": "ipython",
        "version": 3
      },
      "file_extension": ".py",
      "mimetype": "text/x-python",
      "name": "python",
      "nbconvert_exporter": "python",
      "pygments_lexer": "ipython3",
      "version": "3.8.5"
    },
    "colab": {
      "name": "Chapter4_2_JSON_MQTT_Subscriber.ipynb",
      "provenance": [],
      "include_colab_link": true
    }
  },
  "cells": [
    {
      "cell_type": "markdown",
      "metadata": {
        "id": "view-in-github",
        "colab_type": "text"
      },
      "source": [
        "<a href=\"https://colab.research.google.com/github/wooihaw/ECE3186/blob/main/Chapter4_2_JSON_MQTT_Subscriber.ipynb\" target=\"_parent\"><img src=\"https://colab.research.google.com/assets/colab-badge.svg\" alt=\"Open In Colab\"/></a>"
      ]
    },
    {
      "cell_type": "markdown",
      "metadata": {
        "id": "4bSOusQFONYL"
      },
      "source": [
        "Run the following cell once to install the MQTT module"
      ]
    },
    {
      "cell_type": "code",
      "metadata": {
        "id": "a12DuvDNONG0"
      },
      "source": [
        "pip install paho-mqtt"
      ],
      "execution_count": null,
      "outputs": []
    },
    {
      "cell_type": "code",
      "metadata": {
        "id": "hMTelKlGOMX1"
      },
      "source": [
        "import paho.mqtt.client as paho\n",
        "from json import loads\n",
        "\n",
        "broker = \"test.mosquitto.org\"\n",
        "port = 1883\n",
        "\n",
        "def on_message(client, userdata, msg):  # callback function for message\n",
        "    data = loads(msg.payload)  # decode json to Python dictionary\n",
        "    print(f\"Temp: {data['temp']}, Humi: {data['humi']}\")\n",
        "    \n",
        "client1 = paho.Client(\"sub1\")  # create client object\n",
        "client1.on_message = on_message  # assign callback function for message\n",
        "client1.connect(broker, port)  # establish connection\n",
        "client1.subscribe(\"mypi/sensor\", 0)  # subscribe to topic “mypi/sensor” with QoS 0\n",
        "client1.loop_forever()  # wait for incoming messages"
      ],
      "execution_count": null,
      "outputs": []
    }
  ]
}