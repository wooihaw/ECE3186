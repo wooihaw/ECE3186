{
 "cells": [
  {
   "cell_type": "code",
   "execution_count": null,
   "metadata": {},
   "outputs": [],
   "source": [
    "import paho.mqtt.client as paho\n",
    "from json import loads\n",
    "\n",
    "broker = \"test.mosquitto.org\"\n",
    "port = 1883\n",
    "\n",
    "def on_message(client, userdata, msg):  # callback function for message\n",
    "    data = loads(msg.payload)  # decode json to Python dictionary\n",
    "    print(f\"Temp: {data['temp']}, Humi: {data['humi']}\")\n",
    "    \n",
    "client1 = paho.Client(\"sub1\")  # create client object\n",
    "client1.on_message = on_message  # assign callback function for message\n",
    "client1.connect(broker, port)  # establish connection\n",
    "client1.subscribe(\"mypi/sensor\", 0)  # subscribe to topic “mypi/sensor” with QoS 0\n",
    "client1.loop_forever()  # wait for incoming messages"
   ]
  }
 ],
 "metadata": {
  "kernelspec": {
   "display_name": "Python 3",
   "language": "python",
   "name": "python3"
  },
  "language_info": {
   "codemirror_mode": {
    "name": "ipython",
    "version": 3
   },
   "file_extension": ".py",
   "mimetype": "text/x-python",
   "name": "python",
   "nbconvert_exporter": "python",
   "pygments_lexer": "ipython3",
   "version": "3.8.5"
  }
 },
 "nbformat": 4,
 "nbformat_minor": 4
}
