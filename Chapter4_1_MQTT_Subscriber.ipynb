{
  "nbformat": 4,
  "nbformat_minor": 0,
  "metadata": {
    "kernelspec": {
      "display_name": "Python 3",
      "language": "python",
      "name": "python3"
    },
    "language_info": {
      "codemirror_mode": {
        "name": "ipython",
        "version": 3
      },
      "file_extension": ".py",
      "mimetype": "text/x-python",
      "name": "python",
      "nbconvert_exporter": "python",
      "pygments_lexer": "ipython3",
      "version": "3.8.5"
    },
    "colab": {
      "name": "Chapter4_1_MQTT_Subscriber.ipynb",
      "provenance": [],
      "include_colab_link": true
    }
  },
  "cells": [
    {
      "cell_type": "markdown",
      "metadata": {
        "id": "view-in-github",
        "colab_type": "text"
      },
      "source": [
        "<a href=\"https://colab.research.google.com/github/wooihaw/ECE3186/blob/main/Chapter4_1_MQTT_Subscriber.ipynb\" target=\"_parent\"><img src=\"https://colab.research.google.com/assets/colab-badge.svg\" alt=\"Open In Colab\"/></a>"
      ]
    },
    {
      "cell_type": "markdown",
      "metadata": {
        "id": "PRePdsWW9LpT"
      },
      "source": [
        "Run the following cell once to install the MQTT module"
      ]
    },
    {
      "cell_type": "code",
      "metadata": {
        "id": "ghgNoyNk9JaO"
      },
      "source": [
        "pip install paho-mqtt"
      ],
      "execution_count": null,
      "outputs": []
    },
    {
      "cell_type": "code",
      "metadata": {
        "id": "tc84c6v-9JaS"
      },
      "source": [
        "# Sample code for MQTT subscriber\n",
        "import paho.mqtt.client as paho\n",
        "\n",
        "broker = \"test.mosquitto.org\"\n",
        "port = 1883\n",
        "\n",
        "def on_connect(self, client, userdata, rc):  # callback function for connect\n",
        "    print(\"Connected with result code \"+str(rc))\n",
        "\n",
        "def on_subscribe(client, userdata, mid, granted_qos):  # callback function for subscribe\n",
        "    print(\"Subscribed with QOS: \", granted_qos)\n",
        "    \n",
        "def on_message(client, userdata, msg):  # callback function for message\n",
        "    print(\"Topic: \" + msg.topic + \"\\nMessage: \" + str(msg.payload))\n",
        "    \n",
        "client1 = paho.Client(\"sub01\")  # create client object\n",
        "client1.on_connect = on_connect  # assign callback function for connect\n",
        "client1.on_subscribe = on_subscribe  # assign callback function for subscribe\n",
        "client1.on_message = on_message  # assign callback function for message\n",
        "client1.connect(broker, port)  # establish connection\n",
        "client1.subscribe(\"mypi/led1\", 0)  # subscribe to topic “mypi/led1” with QoS 0\n",
        "client1.loop_forever()  # wait for incoming messages"
      ],
      "execution_count": null,
      "outputs": []
    }
  ]
}