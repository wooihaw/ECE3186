{
  "nbformat": 4,
  "nbformat_minor": 0,
  "metadata": {
    "kernelspec": {
      "display_name": "Python 3",
      "language": "python",
      "name": "python3"
    },
    "language_info": {
      "codemirror_mode": {
        "name": "ipython",
        "version": 3
      },
      "file_extension": ".py",
      "mimetype": "text/x-python",
      "name": "python",
      "nbconvert_exporter": "python",
      "pygments_lexer": "ipython3",
      "version": "3.8.5"
    },
    "colab": {
      "name": "Chapter4_2_JSON_HTTP.ipynb",
      "provenance": [],
      "include_colab_link": true
    }
  },
  "cells": [
    {
      "cell_type": "markdown",
      "metadata": {
        "id": "view-in-github",
        "colab_type": "text"
      },
      "source": [
        "<a href=\"https://colab.research.google.com/github/wooihaw/ECE3186/blob/main/Chapter4_2_JSON_HTTP.ipynb\" target=\"_parent\"><img src=\"https://colab.research.google.com/assets/colab-badge.svg\" alt=\"Open In Colab\"/></a>"
      ]
    },
    {
      "cell_type": "code",
      "metadata": {
        "id": "uo1E9GzZMv0B"
      },
      "source": [
        "# Push IoT data to dweet.io using RESTful api \n",
        "import urllib.parse\n",
        "import urllib.request\n",
        "\n",
        "name_value = {}\n",
        "name_value['temp'] = 26.7\n",
        "name_value['humi'] = 78.9\n",
        "values = urllib.parse.urlencode(name_value)\n",
        "url = 'http://dweet.io/dweet/for/mydevice_r2d2'\n",
        "url_values = url + '?' + values\n",
        "res = urllib.request.urlopen(url_values)\n",
        "print(res.msg)"
      ],
      "execution_count": null,
      "outputs": []
    },
    {
      "cell_type": "code",
      "metadata": {
        "id": "HitOf9s8Mv0F"
      },
      "source": [
        "# Retrieve IoT data from dweet.io using RESTful api\n",
        "import urllib.request\n",
        "import json\n",
        "from pprint import pprint\n",
        "\n",
        "url = 'http://dweet.io/get/latest/dweet/for/mydevice_r2d2'\n",
        "with urllib.request.urlopen(url) as response:\n",
        "   res = response.read()\n",
        "data = json.loads(res)\n",
        "pprint(data)\n",
        "\n",
        "# Extract values from JSON data\n",
        "temp = data['with'][0]['content']['temp']\n",
        "humi = data['with'][0]['content']['humi']\n",
        "print(temp, humi, sep=', ')"
      ],
      "execution_count": null,
      "outputs": []
    }
  ]
}