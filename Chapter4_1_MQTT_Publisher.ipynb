{
 "cells": [
  {
   "cell_type": "code",
   "execution_count": null,
   "metadata": {},
   "outputs": [],
   "source": [
    "# Run once to install the MQTT module\n",
    "pip install paho-mqtt"
   ]
  },
  {
   "cell_type": "code",
   "execution_count": null,
   "metadata": {},
   "outputs": [],
   "source": [
    "# This is a sample code for MQTT publisher\n",
    "import paho.mqtt.client as paho\n",
    "\n",
    "broker=“test.mosquitto.org\"\n",
    "port=1883\n",
    "\n",
    "def on_publish(client,userdata,result):  # callback function for publish\n",
    "    print(\"data published\")\n",
    "\n",
    "client1= paho.Client(\"pub1\")  # create client object\n",
    "client1.on_publish = on_publish  # assign callback function for publish\n",
    "client1.connect(broker, port)  # establish connection\n",
    "ret= client1.publish(“mypi/led1\",“0\")  # publish “0” to topic “mypi/led1”"
   ]
  }
 ],
 "metadata": {
  "kernelspec": {
   "display_name": "Python 3",
   "language": "python",
   "name": "python3"
  },
  "language_info": {
   "codemirror_mode": {
    "name": "ipython",
    "version": 3
   },
   "file_extension": ".py",
   "mimetype": "text/x-python",
   "name": "python",
   "nbconvert_exporter": "python",
   "pygments_lexer": "ipython3",
   "version": "3.8.5"
  }
 },
 "nbformat": 4,
 "nbformat_minor": 4
}
