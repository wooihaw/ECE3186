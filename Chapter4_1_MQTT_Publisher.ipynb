{
  "nbformat": 4,
  "nbformat_minor": 0,
  "metadata": {
    "kernelspec": {
      "display_name": "Python 3",
      "language": "python",
      "name": "python3"
    },
    "language_info": {
      "codemirror_mode": {
        "name": "ipython",
        "version": 3
      },
      "file_extension": ".py",
      "mimetype": "text/x-python",
      "name": "python",
      "nbconvert_exporter": "python",
      "pygments_lexer": "ipython3",
      "version": "3.8.5"
    },
    "colab": {
      "name": "Chapter4_1_MQTT_Publisher.ipynb",
      "provenance": [],
      "include_colab_link": true
    }
  },
  "cells": [
    {
      "cell_type": "markdown",
      "metadata": {
        "id": "view-in-github",
        "colab_type": "text"
      },
      "source": [
        "<a href=\"https://colab.research.google.com/github/wooihaw/ECE3186/blob/main/Chapter4_1_MQTT_Publisher.ipynb\" target=\"_parent\"><img src=\"https://colab.research.google.com/assets/colab-badge.svg\" alt=\"Open In Colab\"/></a>"
      ]
    },
    {
      "cell_type": "markdown",
      "metadata": {
        "id": "VH75svE68r7r"
      },
      "source": [
        "Run the following cell once to install the MQTT module"
      ]
    },
    {
      "cell_type": "code",
      "metadata": {
        "id": "HzSa53H08X_y"
      },
      "source": [
        "pip install paho-mqtt"
      ],
      "execution_count": null,
      "outputs": []
    },
    {
      "cell_type": "code",
      "metadata": {
        "id": "uBlr7t8y8X_2"
      },
      "source": [
        "# This is a sample code for MQTT publisher\n",
        "import paho.mqtt.client as paho\n",
        "from time import sleep\n",
        "\n",
        "broker=\"test.mosquitto.org\"\n",
        "port=1883\n",
        "\n",
        "def on_publish(client,userdata,result):  # callback function for publish\n",
        "    print(\"data published\")\n",
        "\n",
        "client1= paho.Client(\"pub01\")  # create client object\n",
        "client1.on_publish = on_publish  # assign callback function for publish\n",
        "client1.connect(broker, port)  # establish connection\n",
        "while True:\n",
        "  ret = client1.publish(\"mypi/led1\",\"0\")  # publish “0” to topic “mypi/led1”\n",
        "  sleep(5)  # wait 5 seconds"
      ],
      "execution_count": null,
      "outputs": []
    }
  ]
}