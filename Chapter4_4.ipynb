{
 "cells": [
  {
   "cell_type": "code",
   "execution_count": 1,
   "metadata": {},
   "outputs": [],
   "source": [
    "%matplotlib inline"
   ]
  },
  {
   "cell_type": "code",
   "execution_count": 12,
   "metadata": {},
   "outputs": [
    {
     "name": "stdout",
     "output_type": "stream",
     "text": [
      "   Height(cm)  Weight(kg) Gender\n",
      "0       187.6       109.7   Male\n",
      "1       174.7        73.6   Male\n",
      "2       188.2        96.5   Male\n",
      "3       182.2        99.8   Male\n",
      "4       177.5        93.6   Male\n",
      "knn Accuracy: 0.91\n",
      "knn Predictions: ['Male' 'Female']\n",
      "dtc Accuracy: 0.8724\n",
      "dtc Predictions: ['Male' 'Female']\n"
     ]
    }
   ],
   "source": [
    "# Load the relevant modules and packages\n",
    "from pandas import read_csv, read_excel\n",
    "from sklearn.model_selection import train_test_split as split\n",
    "from sklearn.neighbors import KNeighborsClassifier\n",
    "from sklearn.tree import DecisionTreeClassifier\n",
    "\n",
    "# Load dataset and split to training and testing sets\n",
    "df = read_excel('https://raw.githubusercontent.com/wooihaw/datasets/main/heights_weights_genders.xlsx')\n",
    "print(df.head(5))  # print out first 5 lines of datasets\n",
    "X = df.values[:, :-1]\n",
    "y = df.values[:, -1]\n",
    "X_train, X_test, y_train, y_test = split(X, y, test_size=0.25)  # Split to training (75%) & testing (25%) sets\n",
    "\n",
    "# k-Nearest Neighbours Classifier\n",
    "knn = KNeighborsClassifier().fit(X_train, y_train)  # using default settings for training\n",
    "print(f'knn Accuracy: {knn.score(X_test, y_test)}')  # Evaluate the accuracy\n",
    "data1, data2 = [175, 80], [160, 47]\n",
    "print(f'knn Predictions: {knn.predict([data1, data2])}')  # Make predictions\n",
    "\n",
    "# Decision Tree Classifier\n",
    "dtc = DecisionTreeClassifier().fit(X_train, y_train)  # using default settings for training\n",
    "print(f'dtc Accuracy: {dtc.score(X_test, y_test)}')  # Evaluate the accuracy\n",
    "print(f'dtc Predictions: {dtc.predict([data1, data2])}')  # Make predictions"
   ]
  },
  {
   "cell_type": "code",
   "execution_count": 11,
   "metadata": {},
   "outputs": [
    {
     "name": "stdout",
     "output_type": "stream",
     "text": [
      "R2 score: 0.8594011293443136\n",
      "Predictions: [82.01572691 54.53402169]\n"
     ]
    }
   ],
   "source": [
    "from sklearn.linear_model import LinearRegression\n",
    "\n",
    "X = df.values[:, 0].reshape(-1, 1)\n",
    "y = df.values[:, 1]\n",
    "X_train, X_test, y_train, y_test = split(X, y, test_size=0.25) # Split to training (75%) & testing (25%) sets\n",
    "\n",
    "# Linear regression aka ordinbary least square\n",
    "lr = LinearRegression().fit(X_train, y_train)  # using default settings for training\n",
    "print(f'R2 score: {lr.score(X_test, y_test)}')  # Evaluate the R2 score\n",
    "h1, h2 = [175], [155]\n",
    "print(f'Predictions: {lr.predict([h1, h2])}')  # Make predictions"
   ]
  }
 ],
 "metadata": {
  "kernelspec": {
   "display_name": "Python 3",
   "language": "python",
   "name": "python3"
  },
  "language_info": {
   "codemirror_mode": {
    "name": "ipython",
    "version": 3
   },
   "file_extension": ".py",
   "mimetype": "text/x-python",
   "name": "python",
   "nbconvert_exporter": "python",
   "pygments_lexer": "ipython3",
   "version": "3.8.5"
  }
 },
 "nbformat": 4,
 "nbformat_minor": 4
}
