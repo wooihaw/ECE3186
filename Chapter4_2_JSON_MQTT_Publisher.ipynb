{
  "nbformat": 4,
  "nbformat_minor": 0,
  "metadata": {
    "kernelspec": {
      "display_name": "Python 3",
      "language": "python",
      "name": "python3"
    },
    "language_info": {
      "codemirror_mode": {
        "name": "ipython",
        "version": 3
      },
      "file_extension": ".py",
      "mimetype": "text/x-python",
      "name": "python",
      "nbconvert_exporter": "python",
      "pygments_lexer": "ipython3",
      "version": "3.8.5"
    },
    "colab": {
      "name": "Chapter4_2_JSON_MQTT_Publisher.ipynb",
      "provenance": [],
      "include_colab_link": true
    }
  },
  "cells": [
    {
      "cell_type": "markdown",
      "metadata": {
        "id": "view-in-github",
        "colab_type": "text"
      },
      "source": [
        "<a href=\"https://colab.research.google.com/github/wooihaw/ECE3186/blob/main/Chapter4_2_JSON_MQTT_Publisher.ipynb\" target=\"_parent\"><img src=\"https://colab.research.google.com/assets/colab-badge.svg\" alt=\"Open In Colab\"/></a>"
      ]
    },
    {
      "cell_type": "markdown",
      "metadata": {
        "id": "Mk9LvnyfOB91"
      },
      "source": [
        "Run the following cell once to install the MQTT module"
      ]
    },
    {
      "cell_type": "code",
      "metadata": {
        "id": "5FDEEqVbOBJs"
      },
      "source": [
        "pip install paho-mqtt"
      ],
      "execution_count": null,
      "outputs": []
    },
    {
      "cell_type": "code",
      "metadata": {
        "id": "H14fzg2TOAE-"
      },
      "source": [
        "import paho.mqtt.client as paho\n",
        "from random import randint\n",
        "from json import dumps\n",
        "from time import sleep\n",
        "\n",
        "broker=\"test.mosquitto.org\"\n",
        "port=1883\n",
        "\n",
        "def on_publish(client,userdata,result):  # callback function for  publish\n",
        "    print(f\"Data published: {data}\")\n",
        "    \n",
        "client1= paho.Client(\"pub1\")  # create client object\n",
        "client1.on_publish = on_publish  # assign callback function for publish\n",
        "client1.connect(broker,port)  # establish connection\n",
        "while True:\n",
        "    data = dumps(dict(temp=randint(20, 40), humi=randint(50, 80)))  # encode Python dictionary as json\n",
        "    ret= client1.publish(\"mypi/sensor\", data)  # publish data to topic “mypi/sensor”\n",
        "    sleep(5)"
      ],
      "execution_count": null,
      "outputs": []
    }
  ]
}