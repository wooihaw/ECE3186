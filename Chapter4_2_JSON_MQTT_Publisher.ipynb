{
 "cells": [
  {
   "cell_type": "code",
   "execution_count": null,
   "metadata": {},
   "outputs": [],
   "source": [
    "import paho.mqtt.client as paho\n",
    "from random import randint\n",
    "from json import dumps\n",
    "from time import sleep\n",
    "\n",
    "broker=\"test.mosquitto.org\"\n",
    "port=1883\n",
    "\n",
    "def on_publish(client,userdata,result):  # callback function for  publish\n",
    "    print(f\"Data published: {data}\")\n",
    "    \n",
    "client1= paho.Client(\"pub1\")  # create client object\n",
    "client1.on_publish = on_publish  # assign callback function for publish\n",
    "client1.connect(broker,port)  # establish connection\n",
    "while True:\n",
    "    data = dumps(dict(temp=randint(20, 40), humi=randint(50, 80)))  # encode Python dictionary as json\n",
    "    ret= client1.publish(\"mypi/sensor\", data)  # publish data to topic “mypi/sensor”\n",
    "    sleep(5)"
   ]
  }
 ],
 "metadata": {
  "kernelspec": {
   "display_name": "Python 3",
   "language": "python",
   "name": "python3"
  },
  "language_info": {
   "codemirror_mode": {
    "name": "ipython",
    "version": 3
   },
   "file_extension": ".py",
   "mimetype": "text/x-python",
   "name": "python",
   "nbconvert_exporter": "python",
   "pygments_lexer": "ipython3",
   "version": "3.8.5"
  }
 },
 "nbformat": 4,
 "nbformat_minor": 4
}
